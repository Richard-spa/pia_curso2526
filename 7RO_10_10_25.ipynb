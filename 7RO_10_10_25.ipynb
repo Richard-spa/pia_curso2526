{
  "nbformat": 4,
  "nbformat_minor": 0,
  "metadata": {
    "colab": {
      "provenance": [],
      "authorship_tag": "ABX9TyOfQAgMHiXAdAhVIYMH46Cl",
      "include_colab_link": true
    },
    "kernelspec": {
      "name": "python3",
      "display_name": "Python 3"
    },
    "language_info": {
      "name": "python"
    }
  },
  "cells": [
    {
      "cell_type": "markdown",
      "metadata": {
        "id": "view-in-github",
        "colab_type": "text"
      },
      "source": [
        "<a href=\"https://colab.research.google.com/github/Richard-spa/pia_curso2526/blob/main/7RO_10_10_25.ipynb\" target=\"_parent\"><img src=\"https://colab.research.google.com/assets/colab-badge.svg\" alt=\"Open In Colab\"/></a>"
      ]
    },
    {
      "cell_type": "markdown",
      "source": [
        "#7RO.10_10_25\n"
      ],
      "metadata": {
        "id": "h90Lqa6QNy9x"
      }
    },
    {
      "cell_type": "code",
      "execution_count": 27,
      "metadata": {
        "colab": {
          "base_uri": "https://localhost:8080/"
        },
        "id": "quF6HlPTNnoT",
        "outputId": "e96876ca-0bdd-432a-88a9-02d446614384"
      },
      "outputs": [
        {
          "output_type": "stream",
          "name": "stdout",
          "text": [
            "1. Agregar contacto\n",
            "2. Añadir dirección a contacto\n",
            "3. Imprimir la agenda\n",
            "4. Salir de la agenda\n",
            "Elija opción: 6\n",
            "Nombre: rrrr\n",
            "Teléfono: 666\n",
            "Pulse la tecla 'N' para salir o cualquier otra tecla para añadir un contacto nuevon\n",
            "Introduzca el nombre a buscar: rrrr\n",
            "El nombre existe\n",
            "Introduzca direccion: dir\n",
            "{'666': 'rrrr'}\n",
            "{'666': 'dir'}\n"
          ]
        }
      ],
      "source": [
        "#Variables\n",
        "agenda = {}\n",
        "direcciones = {}\n",
        "\n",
        "def menu_inicial():\n",
        "  print(\"1. Agregar contacto\")\n",
        "  print(\"2. Añadir dirección a contacto\")\n",
        "  print(\"3. Imprimir la agenda\")\n",
        "  print(\"4. Salir de la agenda\")\n",
        "\n",
        "  ok_input = False\n",
        "\n",
        "  while not ok_input:\n",
        "    tecla = input(\"Elija opción: \")\n",
        "    if tecla < \"1\" and tecla >\"4\":\n",
        "       print(\"Debe pulsar una tecla entre del 1 al 4\")\n",
        "    else:\n",
        "      ok_input = True\n",
        "\n",
        "\n",
        "def agregar_contacto(agenda):\n",
        "  nombre = input(\"Nombre: \")\n",
        "  tfno = input(\"Teléfono: \")\n",
        "  agenda[tfno] = nombre\n",
        "\n",
        "def agregar_dir_contacto(agenda):\n",
        "  nombre = input(\"Introduzca el nombre a buscar: \")\n",
        "  for i in agenda:\n",
        "    if nombre in agenda[i]:\n",
        "      print(\"El nombre existe\")\n",
        "      dir = input(\"Introduzca direccion: \")\n",
        "      direcciones[i] = dir\n",
        "      break\n",
        "    else:\n",
        "      print(\"Ese nombre no existe\")\n",
        "\n",
        "def imprimir_agenda():\n",
        "  print(agenda)\n",
        "  print(direcciones)\n",
        "\n",
        "opcion = menu_inicial()\n",
        "\n",
        "loop = True\n",
        "\n",
        "while loop:\n",
        "  agregar_contacto(agenda)\n",
        "  confirmar = input(\"Pulse la tecla 'N' para salir o cualquier otra tecla para añadir un contacto nuevo\")\n",
        "  if confirmar == \"N\" or confirmar == 'n':\n",
        "    loop = False\n",
        "\n",
        "agregar_dir_contacto(agenda)\n",
        "\n",
        "imprimir_agenda()"
      ]
    }
  ]
}